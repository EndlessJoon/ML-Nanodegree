{
 "cells": [
  {
   "cell_type": "markdown",
   "metadata": {},
   "source": [
    "# Data Exploration"
   ]
  },
  {
   "cell_type": "markdown",
   "metadata": {},
   "source": [
    "* To get an insight, I will explore the data set before making a model."
   ]
  },
  {
   "cell_type": "code",
   "execution_count": 1,
   "metadata": {},
   "outputs": [],
   "source": [
    "import numpy as np\n",
    "import pandas as pd\n",
    "\n",
    "admission = pd.read_csv(\"Admission_Predict.csv\")"
   ]
  },
  {
   "cell_type": "code",
   "execution_count": 2,
   "metadata": {},
   "outputs": [
    {
     "data": {
      "text/html": [
       "<div>\n",
       "<style scoped>\n",
       "    .dataframe tbody tr th:only-of-type {\n",
       "        vertical-align: middle;\n",
       "    }\n",
       "\n",
       "    .dataframe tbody tr th {\n",
       "        vertical-align: top;\n",
       "    }\n",
       "\n",
       "    .dataframe thead th {\n",
       "        text-align: right;\n",
       "    }\n",
       "</style>\n",
       "<table border=\"1\" class=\"dataframe\">\n",
       "  <thead>\n",
       "    <tr style=\"text-align: right;\">\n",
       "      <th></th>\n",
       "      <th>Serial No.</th>\n",
       "      <th>GRE Score</th>\n",
       "      <th>TOEFL Score</th>\n",
       "      <th>University Rating</th>\n",
       "      <th>SOP</th>\n",
       "      <th>LOR</th>\n",
       "      <th>CGPA</th>\n",
       "      <th>Research</th>\n",
       "      <th>Chance of Admit</th>\n",
       "    </tr>\n",
       "  </thead>\n",
       "  <tbody>\n",
       "    <tr>\n",
       "      <th>0</th>\n",
       "      <td>1</td>\n",
       "      <td>337</td>\n",
       "      <td>118</td>\n",
       "      <td>4</td>\n",
       "      <td>4.5</td>\n",
       "      <td>4.5</td>\n",
       "      <td>9.65</td>\n",
       "      <td>1</td>\n",
       "      <td>0.92</td>\n",
       "    </tr>\n",
       "    <tr>\n",
       "      <th>1</th>\n",
       "      <td>2</td>\n",
       "      <td>324</td>\n",
       "      <td>107</td>\n",
       "      <td>4</td>\n",
       "      <td>4.0</td>\n",
       "      <td>4.5</td>\n",
       "      <td>8.87</td>\n",
       "      <td>1</td>\n",
       "      <td>0.76</td>\n",
       "    </tr>\n",
       "    <tr>\n",
       "      <th>2</th>\n",
       "      <td>3</td>\n",
       "      <td>316</td>\n",
       "      <td>104</td>\n",
       "      <td>3</td>\n",
       "      <td>3.0</td>\n",
       "      <td>3.5</td>\n",
       "      <td>8.00</td>\n",
       "      <td>1</td>\n",
       "      <td>0.72</td>\n",
       "    </tr>\n",
       "    <tr>\n",
       "      <th>3</th>\n",
       "      <td>4</td>\n",
       "      <td>322</td>\n",
       "      <td>110</td>\n",
       "      <td>3</td>\n",
       "      <td>3.5</td>\n",
       "      <td>2.5</td>\n",
       "      <td>8.67</td>\n",
       "      <td>1</td>\n",
       "      <td>0.80</td>\n",
       "    </tr>\n",
       "    <tr>\n",
       "      <th>4</th>\n",
       "      <td>5</td>\n",
       "      <td>314</td>\n",
       "      <td>103</td>\n",
       "      <td>2</td>\n",
       "      <td>2.0</td>\n",
       "      <td>3.0</td>\n",
       "      <td>8.21</td>\n",
       "      <td>0</td>\n",
       "      <td>0.65</td>\n",
       "    </tr>\n",
       "  </tbody>\n",
       "</table>\n",
       "</div>"
      ],
      "text/plain": [
       "   Serial No.  GRE Score  TOEFL Score  University Rating  SOP  LOR   CGPA  \\\n",
       "0           1        337          118                  4  4.5   4.5  9.65   \n",
       "1           2        324          107                  4  4.0   4.5  8.87   \n",
       "2           3        316          104                  3  3.0   3.5  8.00   \n",
       "3           4        322          110                  3  3.5   2.5  8.67   \n",
       "4           5        314          103                  2  2.0   3.0  8.21   \n",
       "\n",
       "   Research  Chance of Admit   \n",
       "0         1              0.92  \n",
       "1         1              0.76  \n",
       "2         1              0.72  \n",
       "3         1              0.80  \n",
       "4         0              0.65  "
      ]
     },
     "execution_count": 2,
     "metadata": {},
     "output_type": "execute_result"
    }
   ],
   "source": [
    "admission.head()"
   ]
  },
  {
   "cell_type": "code",
   "execution_count": 3,
   "metadata": {},
   "outputs": [
    {
     "name": "stdout",
     "output_type": "stream",
     "text": [
      "<class 'pandas.core.frame.DataFrame'>\n",
      "RangeIndex: 500 entries, 0 to 499\n",
      "Data columns (total 9 columns):\n",
      "Serial No.           500 non-null int64\n",
      "GRE Score            500 non-null int64\n",
      "TOEFL Score          500 non-null int64\n",
      "University Rating    500 non-null int64\n",
      "SOP                  500 non-null float64\n",
      "LOR                  500 non-null float64\n",
      "CGPA                 500 non-null float64\n",
      "Research             500 non-null int64\n",
      "Chance of Admit      500 non-null float64\n",
      "dtypes: float64(4), int64(5)\n",
      "memory usage: 35.2 KB\n"
     ]
    }
   ],
   "source": [
    "admission.info()"
   ]
  },
  {
   "cell_type": "code",
   "execution_count": 4,
   "metadata": {},
   "outputs": [
    {
     "data": {
      "text/html": [
       "<div>\n",
       "<style scoped>\n",
       "    .dataframe tbody tr th:only-of-type {\n",
       "        vertical-align: middle;\n",
       "    }\n",
       "\n",
       "    .dataframe tbody tr th {\n",
       "        vertical-align: top;\n",
       "    }\n",
       "\n",
       "    .dataframe thead th {\n",
       "        text-align: right;\n",
       "    }\n",
       "</style>\n",
       "<table border=\"1\" class=\"dataframe\">\n",
       "  <thead>\n",
       "    <tr style=\"text-align: right;\">\n",
       "      <th></th>\n",
       "      <th>Serial No.</th>\n",
       "      <th>GRE Score</th>\n",
       "      <th>TOEFL Score</th>\n",
       "      <th>University Rating</th>\n",
       "      <th>SOP</th>\n",
       "      <th>LOR</th>\n",
       "      <th>CGPA</th>\n",
       "      <th>Research</th>\n",
       "      <th>Chance of Admit</th>\n",
       "    </tr>\n",
       "  </thead>\n",
       "  <tbody>\n",
       "    <tr>\n",
       "      <th>count</th>\n",
       "      <td>500.000000</td>\n",
       "      <td>500.000000</td>\n",
       "      <td>500.000000</td>\n",
       "      <td>500.000000</td>\n",
       "      <td>500.000000</td>\n",
       "      <td>500.00000</td>\n",
       "      <td>500.000000</td>\n",
       "      <td>500.000000</td>\n",
       "      <td>500.00000</td>\n",
       "    </tr>\n",
       "    <tr>\n",
       "      <th>mean</th>\n",
       "      <td>250.500000</td>\n",
       "      <td>316.472000</td>\n",
       "      <td>107.192000</td>\n",
       "      <td>3.114000</td>\n",
       "      <td>3.374000</td>\n",
       "      <td>3.48400</td>\n",
       "      <td>8.576440</td>\n",
       "      <td>0.560000</td>\n",
       "      <td>0.72174</td>\n",
       "    </tr>\n",
       "    <tr>\n",
       "      <th>std</th>\n",
       "      <td>144.481833</td>\n",
       "      <td>11.295148</td>\n",
       "      <td>6.081868</td>\n",
       "      <td>1.143512</td>\n",
       "      <td>0.991004</td>\n",
       "      <td>0.92545</td>\n",
       "      <td>0.604813</td>\n",
       "      <td>0.496884</td>\n",
       "      <td>0.14114</td>\n",
       "    </tr>\n",
       "    <tr>\n",
       "      <th>min</th>\n",
       "      <td>1.000000</td>\n",
       "      <td>290.000000</td>\n",
       "      <td>92.000000</td>\n",
       "      <td>1.000000</td>\n",
       "      <td>1.000000</td>\n",
       "      <td>1.00000</td>\n",
       "      <td>6.800000</td>\n",
       "      <td>0.000000</td>\n",
       "      <td>0.34000</td>\n",
       "    </tr>\n",
       "    <tr>\n",
       "      <th>25%</th>\n",
       "      <td>125.750000</td>\n",
       "      <td>308.000000</td>\n",
       "      <td>103.000000</td>\n",
       "      <td>2.000000</td>\n",
       "      <td>2.500000</td>\n",
       "      <td>3.00000</td>\n",
       "      <td>8.127500</td>\n",
       "      <td>0.000000</td>\n",
       "      <td>0.63000</td>\n",
       "    </tr>\n",
       "    <tr>\n",
       "      <th>50%</th>\n",
       "      <td>250.500000</td>\n",
       "      <td>317.000000</td>\n",
       "      <td>107.000000</td>\n",
       "      <td>3.000000</td>\n",
       "      <td>3.500000</td>\n",
       "      <td>3.50000</td>\n",
       "      <td>8.560000</td>\n",
       "      <td>1.000000</td>\n",
       "      <td>0.72000</td>\n",
       "    </tr>\n",
       "    <tr>\n",
       "      <th>75%</th>\n",
       "      <td>375.250000</td>\n",
       "      <td>325.000000</td>\n",
       "      <td>112.000000</td>\n",
       "      <td>4.000000</td>\n",
       "      <td>4.000000</td>\n",
       "      <td>4.00000</td>\n",
       "      <td>9.040000</td>\n",
       "      <td>1.000000</td>\n",
       "      <td>0.82000</td>\n",
       "    </tr>\n",
       "    <tr>\n",
       "      <th>max</th>\n",
       "      <td>500.000000</td>\n",
       "      <td>340.000000</td>\n",
       "      <td>120.000000</td>\n",
       "      <td>5.000000</td>\n",
       "      <td>5.000000</td>\n",
       "      <td>5.00000</td>\n",
       "      <td>9.920000</td>\n",
       "      <td>1.000000</td>\n",
       "      <td>0.97000</td>\n",
       "    </tr>\n",
       "  </tbody>\n",
       "</table>\n",
       "</div>"
      ],
      "text/plain": [
       "       Serial No.   GRE Score  TOEFL Score  University Rating         SOP  \\\n",
       "count  500.000000  500.000000   500.000000         500.000000  500.000000   \n",
       "mean   250.500000  316.472000   107.192000           3.114000    3.374000   \n",
       "std    144.481833   11.295148     6.081868           1.143512    0.991004   \n",
       "min      1.000000  290.000000    92.000000           1.000000    1.000000   \n",
       "25%    125.750000  308.000000   103.000000           2.000000    2.500000   \n",
       "50%    250.500000  317.000000   107.000000           3.000000    3.500000   \n",
       "75%    375.250000  325.000000   112.000000           4.000000    4.000000   \n",
       "max    500.000000  340.000000   120.000000           5.000000    5.000000   \n",
       "\n",
       "            LOR         CGPA    Research  Chance of Admit   \n",
       "count  500.00000  500.000000  500.000000         500.00000  \n",
       "mean     3.48400    8.576440    0.560000           0.72174  \n",
       "std      0.92545    0.604813    0.496884           0.14114  \n",
       "min      1.00000    6.800000    0.000000           0.34000  \n",
       "25%      3.00000    8.127500    0.000000           0.63000  \n",
       "50%      3.50000    8.560000    1.000000           0.72000  \n",
       "75%      4.00000    9.040000    1.000000           0.82000  \n",
       "max      5.00000    9.920000    1.000000           0.97000  "
      ]
     },
     "execution_count": 4,
     "metadata": {},
     "output_type": "execute_result"
    }
   ],
   "source": [
    "admission.describe()"
   ]
  },
  {
   "cell_type": "code",
   "execution_count": 5,
   "metadata": {},
   "outputs": [],
   "source": [
    "%matplotlib inline\n",
    "import matplotlib.pyplot as plt"
   ]
  },
  {
   "cell_type": "code",
   "execution_count": 6,
   "metadata": {},
   "outputs": [
    {
     "data": {
      "image/png": "[encoded data removed]",
      "text/plain": [
       "<Figure size 432x288 with 1 Axes>"
      ]
     },
     "metadata": {
      "needs_background": "light"
     },
     "output_type": "display_data"
    }
   ],
   "source": [
    "plt.hist(admission['Chance of Admit '], bins=100)\n",
    "plt.xlabel('Chance of Admit')\n",
    "plt.ylabel('No. of applicants')\n",
    "plt.title('[Fig 1] Chance of Admit Distribution Histogram')\n",
    "plt.show()"
   ]
  },
  {
   "cell_type": "code",
   "execution_count": 7,
   "metadata": {},
   "outputs": [
    {
     "data": {
      "image/png": "[encoded data removed]",
      "text/plain": [
       "<Figure size 432x288 with 1 Axes>"
      ]
     },
     "metadata": {
      "needs_background": "light"
     },
     "output_type": "display_data"
    }
   ],
   "source": [
    "plt.hist(admission['TOEFL Score'], bins=100)\n",
    "plt.xlabel('TOEFL Score')\n",
    "plt.ylabel('No. of applicants')\n",
    "plt.title('[Fig 2] TOEFL Score Distribution Histogram')\n",
    "plt.show()"
   ]
  },
  {
   "cell_type": "code",
   "execution_count": 8,
   "metadata": {},
   "outputs": [
    {
     "data": {
      "image/png": "[encoded data removed]",
      "text/plain": [
       "<Figure size 432x288 with 1 Axes>"
      ]
     },
     "metadata": {
      "needs_background": "light"
     },
     "output_type": "display_data"
    }
   ],
   "source": [
    "plt.scatter(admission['CGPA'],admission['TOEFL Score'])\n",
    "plt.title(\"[Fig 3] Bi-variate Analysis of CGPA and TOEFL Score\")\n",
    "plt.xlabel(\"CGPA\")\n",
    "plt.ylabel(\"TOEFL Score\")\n",
    "plt.show()"
   ]
  },
  {
   "cell_type": "markdown",
   "metadata": {},
   "source": [
    "We can see the distribution of each variable through histogram."
   ]
  },
  {
   "cell_type": "code",
   "execution_count": 9,
   "metadata": {},
   "outputs": [
    {
     "data": {
      "text/plain": [
       "array([[<matplotlib.axes._subplots.AxesSubplot object at 0x000001FE5719D940>,\n",
       "        <matplotlib.axes._subplots.AxesSubplot object at 0x000001FE571C8208>,\n",
       "        <matplotlib.axes._subplots.AxesSubplot object at 0x000001FE56E20780>],\n",
       "       [<matplotlib.axes._subplots.AxesSubplot object at 0x000001FE5731ACF8>,\n",
       "        <matplotlib.axes._subplots.AxesSubplot object at 0x000001FE573492B0>,\n",
       "        <matplotlib.axes._subplots.AxesSubplot object at 0x000001FE573727F0>],\n",
       "       [<matplotlib.axes._subplots.AxesSubplot object at 0x000001FE573DBD68>,\n",
       "        <matplotlib.axes._subplots.AxesSubplot object at 0x000001FE5740A358>,\n",
       "        <matplotlib.axes._subplots.AxesSubplot object at 0x000001FE5740A390>]],\n",
       "      dtype=object)"
      ]
     },
     "execution_count": 9,
     "metadata": {},
     "output_type": "execute_result"
    },
    {
     "data": {
      "image/png": "[encoded data removed]",
      "text/plain": [
       "<Figure size 1440x1080 with 9 Axes>"
      ]
     },
     "metadata": {
      "needs_background": "light"
     },
     "output_type": "display_data"
    }
   ],
   "source": [
    "admission.hist(bins=50, figsize=(20,15))"
   ]
  },
  {
   "cell_type": "markdown",
   "metadata": {},
   "source": [
    "Let's see the correlation among variables."
   ]
  },
  {
   "cell_type": "code",
   "execution_count": 10,
   "metadata": {},
   "outputs": [],
   "source": [
    "corr_matrix = admission.corr()"
   ]
  },
  {
   "cell_type": "code",
   "execution_count": 11,
   "metadata": {
    "scrolled": true
   },
   "outputs": [
    {
     "data": {
      "text/plain": [
       "Chance of Admit      1.000000\n",
       "CGPA                 0.882413\n",
       "GRE Score            0.810351\n",
       "TOEFL Score          0.792228\n",
       "University Rating    0.690132\n",
       "SOP                  0.684137\n",
       "LOR                  0.645365\n",
       "Research             0.545871\n",
       "Serial No.           0.008505\n",
       "Name: Chance of Admit , dtype: float64"
      ]
     },
     "execution_count": 11,
     "metadata": {},
     "output_type": "execute_result"
    }
   ],
   "source": [
    "corr_matrix[\"Chance of Admit \"].sort_values(ascending=False)"
   ]
  },
  {
   "cell_type": "markdown",
   "metadata": {},
   "source": [
    "We can see the most important three features which are highly related to the target (Chance of Admit) are CGPA, GRE Score and TOEFL Score.  \n",
    "Let's plot the correlations among these three variables."
   ]
  },
  {
   "cell_type": "code",
   "execution_count": 12,
   "metadata": {
    "scrolled": false
   },
   "outputs": [
    {
     "data": {
      "text/plain": [
       "array([[<matplotlib.axes._subplots.AxesSubplot object at 0x000001FE57FF4198>,\n",
       "        <matplotlib.axes._subplots.AxesSubplot object at 0x000001FE590D4F98>,\n",
       "        <matplotlib.axes._subplots.AxesSubplot object at 0x000001FE57991D68>,\n",
       "        <matplotlib.axes._subplots.AxesSubplot object at 0x000001FE579AB320>],\n",
       "       [<matplotlib.axes._subplots.AxesSubplot object at 0x000001FE579D2898>,\n",
       "        <matplotlib.axes._subplots.AxesSubplot object at 0x000001FE579FBDD8>,\n",
       "        <matplotlib.axes._subplots.AxesSubplot object at 0x000001FE57A2C390>,\n",
       "        <matplotlib.axes._subplots.AxesSubplot object at 0x000001FE57A53940>],\n",
       "       [<matplotlib.axes._subplots.AxesSubplot object at 0x000001FE57A53978>,\n",
       "        <matplotlib.axes._subplots.AxesSubplot object at 0x000001FE5727BF60>,\n",
       "        <matplotlib.axes._subplots.AxesSubplot object at 0x000001FE56D4EA90>,\n",
       "        <matplotlib.axes._subplots.AxesSubplot object at 0x000001FE56E90278>],\n",
       "       [<matplotlib.axes._subplots.AxesSubplot object at 0x000001FE57234320>,\n",
       "        <matplotlib.axes._subplots.AxesSubplot object at 0x000001FE59353588>,\n",
       "        <matplotlib.axes._subplots.AxesSubplot object at 0x000001FE56E8FB00>,\n",
       "        <matplotlib.axes._subplots.AxesSubplot object at 0x000001FE56D5D0B8>]],\n",
       "      dtype=object)"
      ]
     },
     "execution_count": 12,
     "metadata": {},
     "output_type": "execute_result"
    },
    {
     "data": {
      "image/png": "[encoded data removed]",
      "text/plain": [
       "<Figure size 864x576 with 16 Axes>"
      ]
     },
     "metadata": {
      "needs_background": "light"
     },
     "output_type": "display_data"
    }
   ],
   "source": [
    "from pandas.plotting import scatter_matrix\n",
    "\n",
    "attributes = [\"Chance of Admit \", \"CGPA\", \"GRE Score\", \"TOEFL Score\"]\n",
    "scatter_matrix(admission[attributes], figsize=(12, 8))"
   ]
  },
  {
   "cell_type": "code",
   "execution_count": 13,
   "metadata": {},
   "outputs": [],
   "source": [
    "np.random.seed(42)"
   ]
  },
  {
   "cell_type": "code",
   "execution_count": 14,
   "metadata": {},
   "outputs": [],
   "source": [
    "#setting input variables and target variable\n",
    "X = admission.drop([\"Serial No.\",\"Chance of Admit \"], axis=1)\n",
    "Y = admission[\"Chance of Admit \"].values"
   ]
  },
  {
   "cell_type": "code",
   "execution_count": 15,
   "metadata": {},
   "outputs": [],
   "source": [
    "from sklearn.model_selection import train_test_split\n",
    "\n",
    "x_train, x_test, y_train, y_test = train_test_split(X, Y, test_size = 0.2, random_state=42)"
   ]
  },
  {
   "cell_type": "markdown",
   "metadata": {},
   "source": [
    "# Data Preprocessing"
   ]
  },
  {
   "cell_type": "code",
   "execution_count": 16,
   "metadata": {},
   "outputs": [
    {
     "name": "stderr",
     "output_type": "stream",
     "text": [
      "C:\\ProgramData\\Anaconda3\\lib\\site-packages\\sklearn\\preprocessing\\data.py:334: DataConversionWarning: Data with input dtype int64, float64 were all converted to float64 by MinMaxScaler.\n",
      "  return self.partial_fit(X, y)\n",
      "C:\\ProgramData\\Anaconda3\\lib\\site-packages\\ipykernel_launcher.py:3: SettingWithCopyWarning: \n",
      "A value is trying to be set on a copy of a slice from a DataFrame.\n",
      "Try using .loc[row_indexer,col_indexer] = value instead\n",
      "\n",
      "See the caveats in the documentation: http://pandas.pydata.org/pandas-docs/stable/indexing.html#indexing-view-versus-copy\n",
      "  This is separate from the ipykernel package so we can avoid doing imports until\n",
      "C:\\ProgramData\\Anaconda3\\lib\\site-packages\\pandas\\core\\indexing.py:543: SettingWithCopyWarning: \n",
      "A value is trying to be set on a copy of a slice from a DataFrame.\n",
      "Try using .loc[row_indexer,col_indexer] = value instead\n",
      "\n",
      "See the caveats in the documentation: http://pandas.pydata.org/pandas-docs/stable/indexing.html#indexing-view-versus-copy\n",
      "  self.obj[item] = s\n",
      "C:\\ProgramData\\Anaconda3\\lib\\site-packages\\ipykernel_launcher.py:4: SettingWithCopyWarning: \n",
      "A value is trying to be set on a copy of a slice from a DataFrame.\n",
      "Try using .loc[row_indexer,col_indexer] = value instead\n",
      "\n",
      "See the caveats in the documentation: http://pandas.pydata.org/pandas-docs/stable/indexing.html#indexing-view-versus-copy\n",
      "  after removing the cwd from sys.path.\n",
      "C:\\ProgramData\\Anaconda3\\lib\\site-packages\\pandas\\core\\indexing.py:543: SettingWithCopyWarning: \n",
      "A value is trying to be set on a copy of a slice from a DataFrame.\n",
      "Try using .loc[row_indexer,col_indexer] = value instead\n",
      "\n",
      "See the caveats in the documentation: http://pandas.pydata.org/pandas-docs/stable/indexing.html#indexing-view-versus-copy\n",
      "  self.obj[item] = s\n"
     ]
    }
   ],
   "source": [
    "from sklearn.preprocessing import MinMaxScaler\n",
    "scaler = MinMaxScaler(feature_range=(0,1))\n",
    "x_train[x_train.columns] = scaler.fit_transform(x_train[x_train.columns])\n",
    "x_test[x_test.columns] = scaler.transform(x_test[x_test.columns])"
   ]
  },
  {
   "cell_type": "markdown",
   "metadata": {},
   "source": [
    "# Train a model : Regression Algorithms"
   ]
  },
  {
   "cell_type": "markdown",
   "metadata": {},
   "source": [
    "#### Linear Regression"
   ]
  },
  {
   "cell_type": "code",
   "execution_count": 17,
   "metadata": {},
   "outputs": [
    {
     "data": {
      "text/plain": [
       "LinearRegression(copy_X=True, fit_intercept=True, n_jobs=None,\n",
       "         normalize=False)"
      ]
     },
     "execution_count": 17,
     "metadata": {},
     "output_type": "execute_result"
    }
   ],
   "source": [
    "from sklearn.linear_model import LinearRegression\n",
    "\n",
    "lin_reg = LinearRegression()\n",
    "lin_reg.fit(x_train, y_train)"
   ]
  },
  {
   "cell_type": "code",
   "execution_count": 18,
   "metadata": {},
   "outputs": [
    {
     "name": "stdout",
     "output_type": "stream",
     "text": [
      "linear regression RMSE(train): 0.059384808482100516\n",
      "linear regression RMSE(test): 0.06086588041578312\n"
     ]
    }
   ],
   "source": [
    "from sklearn.metrics import mean_squared_error\n",
    "lr_pred_train = lin_reg.predict(x_train)\n",
    "lr_train_mse = mean_squared_error(y_train, lr_pred_train)\n",
    "lr_train_rmse = np.sqrt(lr_train_mse)\n",
    "\n",
    "lr_pred_test = lin_reg.predict(x_test)\n",
    "lr_test_mse = mean_squared_error(y_test, lr_pred_test)\n",
    "lr_test_rmse = np.sqrt(lr_test_mse)\n",
    "\n",
    "print(\"linear regression RMSE(train):\", lr_train_rmse)\n",
    "print(\"linear regression RMSE(test):\", lr_test_rmse) "
   ]
  },
  {
   "cell_type": "markdown",
   "metadata": {},
   "source": [
    "Train and test RMSE are nearly same, so we can think overfitting problem did not occur in this model."
   ]
  },
  {
   "cell_type": "markdown",
   "metadata": {},
   "source": [
    "#### Decision Tree"
   ]
  },
  {
   "cell_type": "code",
   "execution_count": 19,
   "metadata": {},
   "outputs": [
    {
     "data": {
      "text/plain": [
       "DecisionTreeRegressor(criterion='mse', max_depth=None, max_features=None,\n",
       "           max_leaf_nodes=None, min_impurity_decrease=0.0,\n",
       "           min_impurity_split=None, min_samples_leaf=1,\n",
       "           min_samples_split=2, min_weight_fraction_leaf=0.0,\n",
       "           presort=False, random_state=42, splitter='best')"
      ]
     },
     "execution_count": 19,
     "metadata": {},
     "output_type": "execute_result"
    }
   ],
   "source": [
    "from sklearn.tree import DecisionTreeRegressor\n",
    "tree_reg = DecisionTreeRegressor(random_state=42)\n",
    "tree_reg.fit(x_train, y_train)"
   ]
  },
  {
   "cell_type": "code",
   "execution_count": 20,
   "metadata": {},
   "outputs": [
    {
     "name": "stdout",
     "output_type": "stream",
     "text": [
      "Decision Tree regression RMSE(train): 1.6653345369377347e-17\n",
      "Decision Tree regression RMSE(test): 0.09296235797353679\n"
     ]
    }
   ],
   "source": [
    "tr_pred_train = tree_reg.predict(x_train)\n",
    "tree_train_mse = mean_squared_error(y_train, tr_pred_train)\n",
    "tree_train_rmse = np.sqrt(tree_train_mse)\n",
    "\n",
    "tr_pred_test = tree_reg.predict(x_test)\n",
    "tree_test_mse = mean_squared_error(y_test, tr_pred_test)\n",
    "tree_test_rmse = np.sqrt(tree_test_mse)\n",
    "\n",
    "print(\"Decision Tree regression RMSE(train):\", tree_train_rmse)\n",
    "print(\"Decision Tree regression RMSE(test):\", tree_test_rmse)"
   ]
  },
  {
   "cell_type": "markdown",
   "metadata": {},
   "source": [
    "Train RMSE is nearly zero! This means there is a serious overfitting problem in this Decision Tree Regressor model."
   ]
  },
  {
   "cell_type": "markdown",
   "metadata": {},
   "source": [
    "#### Random Forest"
   ]
  },
  {
   "cell_type": "code",
   "execution_count": 21,
   "metadata": {},
   "outputs": [
    {
     "data": {
      "text/plain": [
       "RandomForestRegressor(bootstrap=True, criterion='mse', max_depth=None,\n",
       "           max_features='auto', max_leaf_nodes=None,\n",
       "           min_impurity_decrease=0.0, min_impurity_split=None,\n",
       "           min_samples_leaf=1, min_samples_split=2,\n",
       "           min_weight_fraction_leaf=0.0, n_estimators=100, n_jobs=None,\n",
       "           oob_score=False, random_state=42, verbose=0, warm_start=False)"
      ]
     },
     "execution_count": 21,
     "metadata": {},
     "output_type": "execute_result"
    }
   ],
   "source": [
    "from sklearn.ensemble import RandomForestRegressor\n",
    "forest_reg = RandomForestRegressor(n_estimators=100, random_state=42)\n",
    "forest_reg.fit(x_train, y_train)"
   ]
  },
  {
   "cell_type": "code",
   "execution_count": 22,
   "metadata": {},
   "outputs": [
    {
     "name": "stdout",
     "output_type": "stream",
     "text": [
      "Random Forest RMSE(train): 0.025004675062875726\n",
      "Random Forest RMSE(test): 0.06516902638523922\n"
     ]
    }
   ],
   "source": [
    "fr_pred_train = forest_reg.predict(x_train)\n",
    "forest_train_mse = mean_squared_error(y_train, fr_pred_train)\n",
    "forest_train_rmse = np.sqrt(forest_train_mse)\n",
    "\n",
    "fr_pred_test = forest_reg.predict(x_test)\n",
    "forest_test_mse = mean_squared_error(y_test, fr_pred_test)\n",
    "forest_test_rmse = np.sqrt(forest_test_mse)\n",
    "\n",
    "print(\"Random Forest RMSE(train):\", forest_train_rmse)\n",
    "print(\"Random Forest RMSE(test):\", forest_test_rmse)"
   ]
  },
  {
   "cell_type": "markdown",
   "metadata": {},
   "source": [
    "#### Comparison of Regression Algorithms"
   ]
  },
  {
   "cell_type": "code",
   "execution_count": 23,
   "metadata": {},
   "outputs": [
    {
     "data": {
      "image/png": "[encoded data removed]",
      "text/plain": [
       "<Figure size 432x288 with 1 Axes>"
      ]
     },
     "metadata": {
      "needs_background": "light"
     },
     "output_type": "display_data"
    }
   ],
   "source": [
    "x = [\"LR_train\",\"LR_test\",\"DT_train\",\"DT_test\",\"RF_train\",\"RF_test\"]\n",
    "y = [lr_train_rmse,lr_test_rmse,tree_train_rmse,tree_test_rmse,forest_train_rmse,forest_test_rmse]\n",
    "\n",
    "plt.bar(x,y,color=['green','green','blue','blue','cyan','cyan'])\n",
    "plt.title(\"Comparison of Regression Algorithms\")\n",
    "plt.xlabel(\"Algorithm\")\n",
    "plt.ylabel(\"RMSE\")\n",
    "plt.show()"
   ]
  },
  {
   "cell_type": "markdown",
   "metadata": {},
   "source": [
    "Linear Regression algorithm showed the best performance because its test RMSE was the lowest and overfitting did not occur.  \n",
    "On the contrary, Decision Tree and Random Forest algorithms showed the lower RMSE for train data than Linear Regression but there were significant overfit on both of them. "
   ]
  },
  {
   "cell_type": "markdown",
   "metadata": {},
   "source": [
    "# Train a model : Classification Algorithms"
   ]
  },
  {
   "cell_type": "markdown",
   "metadata": {},
   "source": [
    "#### Define Labels"
   ]
  },
  {
   "cell_type": "code",
   "execution_count": 24,
   "metadata": {},
   "outputs": [],
   "source": [
    "#My definition: If a data instance's 'chance of admit' is greater than 80% then the data instance is classfied as '1' else '0' \n",
    "y_train_c = [1 if each > 0.8 else 0 for each in y_train]\n",
    "y_test_c  = [1 if each > 0.8 else 0 for each in y_test]"
   ]
  },
  {
   "cell_type": "markdown",
   "metadata": {},
   "source": [
    "#### SVM (Support Vector Machine)"
   ]
  },
  {
   "cell_type": "code",
   "execution_count": 25,
   "metadata": {},
   "outputs": [
    {
     "name": "stderr",
     "output_type": "stream",
     "text": [
      "C:\\ProgramData\\Anaconda3\\lib\\site-packages\\sklearn\\svm\\base.py:196: FutureWarning: The default value of gamma will change from 'auto' to 'scale' in version 0.22 to account better for unscaled features. Set gamma explicitly to 'auto' or 'scale' to avoid this warning.\n",
      "  \"avoid this warning.\", FutureWarning)\n"
     ]
    },
    {
     "data": {
      "text/plain": [
       "SVC(C=1.0, cache_size=200, class_weight=None, coef0=0.0,\n",
       "  decision_function_shape='ovr', degree=3, gamma='auto_deprecated',\n",
       "  kernel='rbf', max_iter=-1, probability=False, random_state=42,\n",
       "  shrinking=True, tol=0.001, verbose=False)"
      ]
     },
     "execution_count": 25,
     "metadata": {},
     "output_type": "execute_result"
    }
   ],
   "source": [
    "from sklearn.svm import SVC\n",
    "from sklearn.metrics import f1_score\n",
    "\n",
    "svm = SVC(random_state = 42)\n",
    "svm.fit(x_train,y_train_c)"
   ]
  },
  {
   "cell_type": "code",
   "execution_count": 26,
   "metadata": {
    "scrolled": true
   },
   "outputs": [
    {
     "name": "stdout",
     "output_type": "stream",
     "text": [
      "[SVM] score:  0.97\n",
      "[SCM] f1 score:  0.9433962264150944\n"
     ]
    }
   ],
   "source": [
    "print(\"[SVM] score: \", svm.score(x_test,y_test_c))\n",
    "print(\"[SCM] f1 score: \",f1_score(y_test_c,svm.predict(x_test)))"
   ]
  },
  {
   "cell_type": "markdown",
   "metadata": {},
   "source": [
    "#### Gaussian Naive Bayes"
   ]
  },
  {
   "cell_type": "code",
   "execution_count": 27,
   "metadata": {},
   "outputs": [
    {
     "data": {
      "text/plain": [
       "GaussianNB(priors=None, var_smoothing=1e-09)"
      ]
     },
     "execution_count": 27,
     "metadata": {},
     "output_type": "execute_result"
    }
   ],
   "source": [
    "from sklearn.naive_bayes import GaussianNB\n",
    "gnb = GaussianNB()\n",
    "gnb.fit(x_train,y_train_c)"
   ]
  },
  {
   "cell_type": "code",
   "execution_count": 28,
   "metadata": {},
   "outputs": [
    {
     "name": "stdout",
     "output_type": "stream",
     "text": [
      "[Gaussian Naive Bayes] score:  0.93\n",
      "[Gaussian Naive Bayes] f1_score:  0.8852459016393442\n"
     ]
    }
   ],
   "source": [
    "print(\"[Gaussian Naive Bayes] score: \", gnb.score(x_test,y_test_c))\n",
    "print(\"[Gaussian Naive Bayes] f1_score: \",f1_score(y_test_c,gnb.predict(x_test)))"
   ]
  },
  {
   "cell_type": "markdown",
   "metadata": {},
   "source": [
    "#### Decision Tree Classifier"
   ]
  },
  {
   "cell_type": "code",
   "execution_count": 29,
   "metadata": {},
   "outputs": [
    {
     "data": {
      "text/plain": [
       "DecisionTreeClassifier(class_weight=None, criterion='gini', max_depth=None,\n",
       "            max_features=None, max_leaf_nodes=None,\n",
       "            min_impurity_decrease=0.0, min_impurity_split=None,\n",
       "            min_samples_leaf=1, min_samples_split=2,\n",
       "            min_weight_fraction_leaf=0.0, presort=False, random_state=None,\n",
       "            splitter='best')"
      ]
     },
     "execution_count": 29,
     "metadata": {},
     "output_type": "execute_result"
    }
   ],
   "source": [
    "from sklearn.tree import DecisionTreeClassifier\n",
    "dtc = DecisionTreeClassifier()\n",
    "dtc.fit(x_train,y_train_c)"
   ]
  },
  {
   "cell_type": "code",
   "execution_count": 30,
   "metadata": {},
   "outputs": [
    {
     "name": "stdout",
     "output_type": "stream",
     "text": [
      "[Decision Tree Classifier] score:  0.95\n",
      "[Decision Tree Classifier] f1_score:  0.912280701754386\n"
     ]
    }
   ],
   "source": [
    "print(\"[Decision Tree Classifier] score: \", dtc.score(x_test,y_test_c))\n",
    "print(\"[Decision Tree Classifier] f1_score: \",f1_score(y_test_c,dtc.predict(x_test)))"
   ]
  },
  {
   "cell_type": "markdown",
   "metadata": {},
   "source": [
    "#### Random Forest Classifier"
   ]
  },
  {
   "cell_type": "code",
   "execution_count": 31,
   "metadata": {},
   "outputs": [
    {
     "data": {
      "text/plain": [
       "RandomForestClassifier(bootstrap=True, class_weight=None, criterion='gini',\n",
       "            max_depth=None, max_features='auto', max_leaf_nodes=None,\n",
       "            min_impurity_decrease=0.0, min_impurity_split=None,\n",
       "            min_samples_leaf=1, min_samples_split=2,\n",
       "            min_weight_fraction_leaf=0.0, n_estimators=100, n_jobs=None,\n",
       "            oob_score=False, random_state=42, verbose=0, warm_start=False)"
      ]
     },
     "execution_count": 31,
     "metadata": {},
     "output_type": "execute_result"
    }
   ],
   "source": [
    "from sklearn.ensemble import RandomForestClassifier\n",
    "rfc = RandomForestClassifier(n_estimators = 100,random_state = 42)\n",
    "rfc.fit(x_train,y_train_c)"
   ]
  },
  {
   "cell_type": "code",
   "execution_count": 32,
   "metadata": {},
   "outputs": [
    {
     "name": "stdout",
     "output_type": "stream",
     "text": [
      "[Random Forest Classifier] score:  0.96\n",
      "[Random Forest Classifier] f1_score:  0.9259259259259259\n"
     ]
    }
   ],
   "source": [
    "print(\"[Random Forest Classifier] score: \", rfc.score(x_test,y_test_c))\n",
    "print(\"[Random Forest Classifier] f1_score: \",f1_score(y_test_c,rfc.predict(x_test)))"
   ]
  },
  {
   "cell_type": "markdown",
   "metadata": {},
   "source": [
    "#### Logistic Regression"
   ]
  },
  {
   "cell_type": "code",
   "execution_count": 33,
   "metadata": {},
   "outputs": [
    {
     "name": "stderr",
     "output_type": "stream",
     "text": [
      "C:\\ProgramData\\Anaconda3\\lib\\site-packages\\sklearn\\linear_model\\logistic.py:433: FutureWarning: Default solver will be changed to 'lbfgs' in 0.22. Specify a solver to silence this warning.\n",
      "  FutureWarning)\n"
     ]
    },
    {
     "data": {
      "text/plain": [
       "LogisticRegression(C=1.0, class_weight=None, dual=False, fit_intercept=True,\n",
       "          intercept_scaling=1, max_iter=100, multi_class='warn',\n",
       "          n_jobs=None, penalty='l2', random_state=None, solver='warn',\n",
       "          tol=0.0001, verbose=0, warm_start=False)"
      ]
     },
     "execution_count": 33,
     "metadata": {},
     "output_type": "execute_result"
    }
   ],
   "source": [
    "from sklearn.linear_model import LogisticRegression\n",
    "lrc = LogisticRegression()\n",
    "lrc.fit(x_train,y_train_c)"
   ]
  },
  {
   "cell_type": "code",
   "execution_count": 34,
   "metadata": {},
   "outputs": [
    {
     "name": "stdout",
     "output_type": "stream",
     "text": [
      "[Logistic Regression] score:  0.96\n",
      "[Logistic Regression] f1_score:  0.923076923076923\n"
     ]
    }
   ],
   "source": [
    "print(\"[Logistic Regression] score: \", lrc.score(x_test,y_test_c))\n",
    "print(\"[Logistic Regression] f1_score: \",f1_score(y_test_c,lrc.predict(x_test)))"
   ]
  },
  {
   "cell_type": "markdown",
   "metadata": {},
   "source": [
    "#### Comparison of Classification Algorithms"
   ]
  },
  {
   "cell_type": "code",
   "execution_count": 35,
   "metadata": {},
   "outputs": [
    {
     "data": {
      "image/png": "[encoded data removed]",
      "text/plain": [
       "<Figure size 432x288 with 1 Axes>"
      ]
     },
     "metadata": {
      "needs_background": "light"
     },
     "output_type": "display_data"
    }
   ],
   "source": [
    "x = [\"SVM\",\"GNB\",\"DTC\",\"RFC\",\"LR\"]\n",
    "y = [svm.score(x_test,y_test_c),gnb.score(x_test,y_test_c),dtc.score(x_test,y_test_c),rfc.score(x_test,y_test_c),lrc.score(x_test,y_test_c)]\n",
    "\n",
    "plt.bar(x,y,color=['black', 'red', 'green', 'blue', 'cyan'])\n",
    "plt.title(\"Comparison of Classification Algorithms\")\n",
    "plt.xlabel(\"Algorithm\")\n",
    "plt.ylabel(\"Score\")\n",
    "plt.show()"
   ]
  },
  {
   "cell_type": "markdown",
   "metadata": {},
   "source": [
    "All scores were high (0.93 ~ 0.96), the hightest one was SVM."
   ]
  },
  {
   "cell_type": "markdown",
   "metadata": {},
   "source": [
    "#### Cross Validation"
   ]
  },
  {
   "cell_type": "markdown",
   "metadata": {},
   "source": [
    "To remedy overfitting due to small data set, I tried cross validation."
   ]
  },
  {
   "cell_type": "code",
   "execution_count": 36,
   "metadata": {},
   "outputs": [
    {
     "name": "stdout",
     "output_type": "stream",
     "text": [
      "Linear Regression Cross Validation Mean:  0.059890949662881256\n",
      "Decision Tree Cross Validation Mean:  0.08550529174840318\n",
      "Random Forest Cross Validation Mean:  0.06475450882065156\n"
     ]
    }
   ],
   "source": [
    "from sklearn.model_selection import cross_val_score\n",
    "\n",
    "lr_scores = cross_val_score(lin_reg, x_train, y_train,\n",
    "                        scoring=\"neg_mean_squared_error\", cv=10)\n",
    "lr_rmse_scores = np.sqrt(-lr_scores)\n",
    "\n",
    "tree_scores = cross_val_score(tree_reg, x_train, y_train,\n",
    "                        scoring=\"neg_mean_squared_error\", cv=10)\n",
    "tree_rmse_scores = np.sqrt(-tree_scores)\n",
    "\n",
    "forest_scores = cross_val_score(forest_reg, x_train, y_train,\n",
    "                        scoring=\"neg_mean_squared_error\", cv=10)\n",
    "forest_rmse_scores = np.sqrt(-forest_scores)\n",
    "\n",
    "print(\"Linear Regression Cross Validation Mean: \", lr_rmse_scores.mean())\n",
    "print(\"Decision Tree Cross Validation Mean: \", tree_rmse_scores.mean())\n",
    "print(\"Random Forest Cross Validation Mean: \", forest_rmse_scores.mean())"
   ]
  },
  {
   "cell_type": "markdown",
   "metadata": {},
   "source": [
    "#### Comparison of Regression Algorithms after Cross Validation"
   ]
  },
  {
   "cell_type": "code",
   "execution_count": 37,
   "metadata": {},
   "outputs": [
    {
     "data": {
      "image/png": "[encoded data removed]",
      "text/plain": [
       "<Figure size 576x216 with 1 Axes>"
      ]
     },
     "metadata": {
      "needs_background": "light"
     },
     "output_type": "display_data"
    }
   ],
   "source": [
    "x = [\"LR_train\",\"LR_CV\",\"LR_test\",\"DT_train\",\"DT_CV\",\"DT_test\",\"RF_train\",\"RF_CV\",\"RF_test\"]\n",
    "y = [lr_train_rmse,lr_rmse_scores.mean(),lr_test_rmse,tree_train_rmse,tree_rmse_scores.mean(),tree_test_rmse,forest_train_rmse,forest_rmse_scores.mean(),forest_test_rmse]\n",
    "\n",
    "plt.figure(figsize=(8, 3))\n",
    "plt.bar(x,y,color=['green','green','green','blue','blue','blue','cyan','cyan','cyan'])\n",
    "plt.title(\"Comparison of Regression Algorithms after Cross Validation\")\n",
    "plt.xlabel(\"Algorithm\")\n",
    "plt.ylabel(\"RMSE\")\n",
    "plt.show()"
   ]
  },
  {
   "cell_type": "markdown",
   "metadata": {},
   "source": [
    "After applying cross validation, we can see there were outstanding improvements on both Decision Tree and Random Forest algorithms: Overfitting were significantly diminished on both of them.  \n",
    "Still, Linear Regression algorithm showed the best performance among them, which is my final model after benchmarking."
   ]
  },
  {
   "cell_type": "markdown",
   "metadata": {},
   "source": [
    "# Refinement"
   ]
  },
  {
   "cell_type": "markdown",
   "metadata": {},
   "source": [
    "#### Grid Search"
   ]
  },
  {
   "cell_type": "markdown",
   "metadata": {},
   "source": [
    "Now to get better result, I will try to find out best parameter combination. As there is no room for parameter tuning in linear regression algorithm I will try for random forest algorithm with Grid Search in Scikit Learn."
   ]
  },
  {
   "cell_type": "code",
   "execution_count": 38,
   "metadata": {},
   "outputs": [
    {
     "data": {
      "text/plain": [
       "GridSearchCV(cv=5, error_score='raise-deprecating',\n",
       "       estimator=RandomForestRegressor(bootstrap=True, criterion='mse', max_depth=None,\n",
       "           max_features='auto', max_leaf_nodes=None,\n",
       "           min_impurity_decrease=0.0, min_impurity_split=None,\n",
       "           min_samples_leaf=1, min_samples_split=2,\n",
       "           min_weight_fraction_leaf=0.0, n_estimators='warn', n_jobs=None,\n",
       "           oob_score=False, random_state=42, verbose=0, warm_start=False),\n",
       "       fit_params=None, iid='warn', n_jobs=None,\n",
       "       param_grid=[{'n_estimators': [3, 10, 30], 'max_features': [2, 4, 6]}, {'bootstrap': [False], 'n_estimators': [3, 10], 'max_features': [2, 3, 4]}],\n",
       "       pre_dispatch='2*n_jobs', refit=True, return_train_score=True,\n",
       "       scoring='neg_mean_squared_error', verbose=0)"
      ]
     },
     "execution_count": 38,
     "metadata": {},
     "output_type": "execute_result"
    }
   ],
   "source": [
    "from sklearn.model_selection import GridSearchCV\n",
    "\n",
    "param_grid = [\n",
    "    # try 9 (3×3) combinations of hyperparameters\n",
    "    {'n_estimators': [3, 10, 30], 'max_features': [2, 4, 6]},\n",
    "    # then try 6 (2×3) combinations with bootstrap set as False\n",
    "    {'bootstrap': [False], 'n_estimators': [3, 10], 'max_features': [2, 3, 4]},\n",
    "  ]\n",
    "\n",
    "forest_reg = RandomForestRegressor(random_state=42)\n",
    "# train across 5 folds, that's a total of (9+6)*5=75 rounds of training \n",
    "grid_search = GridSearchCV(forest_reg, param_grid, cv=5,\n",
    "                           scoring='neg_mean_squared_error', return_train_score=True)\n",
    "grid_search.fit(x_train, y_train)"
   ]
  },
  {
   "cell_type": "code",
   "execution_count": 39,
   "metadata": {},
   "outputs": [
    {
     "data": {
      "text/plain": [
       "{'max_features': 2, 'n_estimators': 30}"
      ]
     },
     "execution_count": 39,
     "metadata": {},
     "output_type": "execute_result"
    }
   ],
   "source": [
    "grid_search.best_params_"
   ]
  },
  {
   "cell_type": "code",
   "execution_count": 40,
   "metadata": {},
   "outputs": [
    {
     "data": {
      "text/plain": [
       "RandomForestRegressor(bootstrap=True, criterion='mse', max_depth=None,\n",
       "           max_features=2, max_leaf_nodes=None, min_impurity_decrease=0.0,\n",
       "           min_impurity_split=None, min_samples_leaf=1,\n",
       "           min_samples_split=2, min_weight_fraction_leaf=0.0,\n",
       "           n_estimators=30, n_jobs=None, oob_score=False, random_state=42,\n",
       "           verbose=0, warm_start=False)"
      ]
     },
     "execution_count": 40,
     "metadata": {},
     "output_type": "execute_result"
    }
   ],
   "source": [
    "grid_search.best_estimator_"
   ]
  },
  {
   "cell_type": "code",
   "execution_count": 41,
   "metadata": {},
   "outputs": [
    {
     "name": "stdout",
     "output_type": "stream",
     "text": [
      "0.07327175444876423 {'max_features': 2, 'n_estimators': 3}\n",
      "0.06621485860439483 {'max_features': 2, 'n_estimators': 10}\n",
      "0.06337589140289158 {'max_features': 2, 'n_estimators': 30}\n",
      "0.07285697556781291 {'max_features': 4, 'n_estimators': 3}\n",
      "0.06800224261007867 {'max_features': 4, 'n_estimators': 10}\n",
      "0.06477628381162696 {'max_features': 4, 'n_estimators': 30}\n",
      "0.07500851803480574 {'max_features': 6, 'n_estimators': 3}\n",
      "0.06970604349695943 {'max_features': 6, 'n_estimators': 10}\n",
      "0.06616968716867264 {'max_features': 6, 'n_estimators': 30}\n",
      "0.07558273612406473 {'bootstrap': False, 'max_features': 2, 'n_estimators': 3}\n",
      "0.06586252728221109 {'bootstrap': False, 'max_features': 2, 'n_estimators': 10}\n",
      "0.07023986680574563 {'bootstrap': False, 'max_features': 3, 'n_estimators': 3}\n",
      "0.06532193352925186 {'bootstrap': False, 'max_features': 3, 'n_estimators': 10}\n",
      "0.06980329505116502 {'bootstrap': False, 'max_features': 4, 'n_estimators': 3}\n",
      "0.06791741308383292 {'bootstrap': False, 'max_features': 4, 'n_estimators': 10}\n"
     ]
    }
   ],
   "source": [
    "cvres = grid_search.cv_results_\n",
    "for mean_score, params in zip(cvres[\"mean_test_score\"], cvres[\"params\"]):\n",
    "    print(np.sqrt(-mean_score), params)"
   ]
  },
  {
   "cell_type": "code",
   "execution_count": 42,
   "metadata": {},
   "outputs": [
    {
     "data": {
      "text/html": [
       "<div>\n",
       "<style scoped>\n",
       "    .dataframe tbody tr th:only-of-type {\n",
       "        vertical-align: middle;\n",
       "    }\n",
       "\n",
       "    .dataframe tbody tr th {\n",
       "        vertical-align: top;\n",
       "    }\n",
       "\n",
       "    .dataframe thead th {\n",
       "        text-align: right;\n",
       "    }\n",
       "</style>\n",
       "<table border=\"1\" class=\"dataframe\">\n",
       "  <thead>\n",
       "    <tr style=\"text-align: right;\">\n",
       "      <th></th>\n",
       "      <th>mean_fit_time</th>\n",
       "      <th>std_fit_time</th>\n",
       "      <th>mean_score_time</th>\n",
       "      <th>std_score_time</th>\n",
       "      <th>param_max_features</th>\n",
       "      <th>param_n_estimators</th>\n",
       "      <th>param_bootstrap</th>\n",
       "      <th>params</th>\n",
       "      <th>split0_test_score</th>\n",
       "      <th>split1_test_score</th>\n",
       "      <th>...</th>\n",
       "      <th>mean_test_score</th>\n",
       "      <th>std_test_score</th>\n",
       "      <th>rank_test_score</th>\n",
       "      <th>split0_train_score</th>\n",
       "      <th>split1_train_score</th>\n",
       "      <th>split2_train_score</th>\n",
       "      <th>split3_train_score</th>\n",
       "      <th>split4_train_score</th>\n",
       "      <th>mean_train_score</th>\n",
       "      <th>std_train_score</th>\n",
       "    </tr>\n",
       "  </thead>\n",
       "  <tbody>\n",
       "    <tr>\n",
       "      <th>0</th>\n",
       "      <td>0.015175</td>\n",
       "      <td>3.182724e-03</td>\n",
       "      <td>0.004194</td>\n",
       "      <td>3.989469e-04</td>\n",
       "      <td>2</td>\n",
       "      <td>3</td>\n",
       "      <td>NaN</td>\n",
       "      <td>{'max_features': 2, 'n_estimators': 3}</td>\n",
       "      <td>-0.004245</td>\n",
       "      <td>-0.005731</td>\n",
       "      <td>...</td>\n",
       "      <td>-0.005369</td>\n",
       "      <td>0.000670</td>\n",
       "      <td>13</td>\n",
       "      <td>-1.402778e-03</td>\n",
       "      <td>-1.335069e-03</td>\n",
       "      <td>-1.642257e-03</td>\n",
       "      <td>-1.234097e-03</td>\n",
       "      <td>-1.719549e-03</td>\n",
       "      <td>-1.466750e-03</td>\n",
       "      <td>1.845369e-04</td>\n",
       "    </tr>\n",
       "    <tr>\n",
       "      <th>1</th>\n",
       "      <td>0.028156</td>\n",
       "      <td>7.476447e-04</td>\n",
       "      <td>0.005191</td>\n",
       "      <td>3.972769e-04</td>\n",
       "      <td>2</td>\n",
       "      <td>10</td>\n",
       "      <td>NaN</td>\n",
       "      <td>{'max_features': 2, 'n_estimators': 10}</td>\n",
       "      <td>-0.003434</td>\n",
       "      <td>-0.004879</td>\n",
       "      <td>...</td>\n",
       "      <td>-0.004384</td>\n",
       "      <td>0.000547</td>\n",
       "      <td>6</td>\n",
       "      <td>-8.663469e-04</td>\n",
       "      <td>-7.130281e-04</td>\n",
       "      <td>-8.807125e-04</td>\n",
       "      <td>-7.069969e-04</td>\n",
       "      <td>-8.721031e-04</td>\n",
       "      <td>-8.078375e-04</td>\n",
       "      <td>8.002729e-05</td>\n",
       "    </tr>\n",
       "    <tr>\n",
       "      <th>2</th>\n",
       "      <td>0.075082</td>\n",
       "      <td>1.164921e-03</td>\n",
       "      <td>0.008188</td>\n",
       "      <td>3.999479e-04</td>\n",
       "      <td>2</td>\n",
       "      <td>30</td>\n",
       "      <td>NaN</td>\n",
       "      <td>{'max_features': 2, 'n_estimators': 30}</td>\n",
       "      <td>-0.003398</td>\n",
       "      <td>-0.004650</td>\n",
       "      <td>...</td>\n",
       "      <td>-0.004017</td>\n",
       "      <td>0.000471</td>\n",
       "      <td>1</td>\n",
       "      <td>-6.931628e-04</td>\n",
       "      <td>-5.691556e-04</td>\n",
       "      <td>-6.213920e-04</td>\n",
       "      <td>-5.955924e-04</td>\n",
       "      <td>-6.915087e-04</td>\n",
       "      <td>-6.341623e-04</td>\n",
       "      <td>5.029169e-05</td>\n",
       "    </tr>\n",
       "    <tr>\n",
       "      <th>3</th>\n",
       "      <td>0.012378</td>\n",
       "      <td>4.862650e-04</td>\n",
       "      <td>0.003993</td>\n",
       "      <td>8.714517e-07</td>\n",
       "      <td>4</td>\n",
       "      <td>3</td>\n",
       "      <td>NaN</td>\n",
       "      <td>{'max_features': 4, 'n_estimators': 3}</td>\n",
       "      <td>-0.005245</td>\n",
       "      <td>-0.005988</td>\n",
       "      <td>...</td>\n",
       "      <td>-0.005308</td>\n",
       "      <td>0.000370</td>\n",
       "      <td>12</td>\n",
       "      <td>-1.602535e-03</td>\n",
       "      <td>-1.462604e-03</td>\n",
       "      <td>-1.289167e-03</td>\n",
       "      <td>-1.252917e-03</td>\n",
       "      <td>-1.557326e-03</td>\n",
       "      <td>-1.432910e-03</td>\n",
       "      <td>1.401381e-04</td>\n",
       "    </tr>\n",
       "    <tr>\n",
       "      <th>4</th>\n",
       "      <td>0.036543</td>\n",
       "      <td>1.168548e-02</td>\n",
       "      <td>0.004992</td>\n",
       "      <td>6.324109e-04</td>\n",
       "      <td>4</td>\n",
       "      <td>10</td>\n",
       "      <td>NaN</td>\n",
       "      <td>{'max_features': 4, 'n_estimators': 10}</td>\n",
       "      <td>-0.004381</td>\n",
       "      <td>-0.005397</td>\n",
       "      <td>...</td>\n",
       "      <td>-0.004624</td>\n",
       "      <td>0.000440</td>\n",
       "      <td>8</td>\n",
       "      <td>-9.462594e-04</td>\n",
       "      <td>-7.437812e-04</td>\n",
       "      <td>-7.785531e-04</td>\n",
       "      <td>-7.407688e-04</td>\n",
       "      <td>-8.605406e-04</td>\n",
       "      <td>-8.139806e-04</td>\n",
       "      <td>7.900448e-05</td>\n",
       "    </tr>\n",
       "    <tr>\n",
       "      <th>5</th>\n",
       "      <td>0.091655</td>\n",
       "      <td>1.257169e-02</td>\n",
       "      <td>0.008587</td>\n",
       "      <td>1.017944e-03</td>\n",
       "      <td>4</td>\n",
       "      <td>30</td>\n",
       "      <td>NaN</td>\n",
       "      <td>{'max_features': 4, 'n_estimators': 30}</td>\n",
       "      <td>-0.003732</td>\n",
       "      <td>-0.004788</td>\n",
       "      <td>...</td>\n",
       "      <td>-0.004196</td>\n",
       "      <td>0.000409</td>\n",
       "      <td>2</td>\n",
       "      <td>-6.845514e-04</td>\n",
       "      <td>-6.095753e-04</td>\n",
       "      <td>-6.058687e-04</td>\n",
       "      <td>-6.394260e-04</td>\n",
       "      <td>-6.971677e-04</td>\n",
       "      <td>-6.473178e-04</td>\n",
       "      <td>3.761954e-05</td>\n",
       "    </tr>\n",
       "    <tr>\n",
       "      <th>6</th>\n",
       "      <td>0.012980</td>\n",
       "      <td>3.568323e-07</td>\n",
       "      <td>0.004193</td>\n",
       "      <td>3.991130e-04</td>\n",
       "      <td>6</td>\n",
       "      <td>3</td>\n",
       "      <td>NaN</td>\n",
       "      <td>{'max_features': 6, 'n_estimators': 3}</td>\n",
       "      <td>-0.005289</td>\n",
       "      <td>-0.006145</td>\n",
       "      <td>...</td>\n",
       "      <td>-0.005626</td>\n",
       "      <td>0.001052</td>\n",
       "      <td>14</td>\n",
       "      <td>-1.355729e-03</td>\n",
       "      <td>-1.450903e-03</td>\n",
       "      <td>-1.344479e-03</td>\n",
       "      <td>-1.157882e-03</td>\n",
       "      <td>-1.536875e-03</td>\n",
       "      <td>-1.369174e-03</td>\n",
       "      <td>1.266792e-04</td>\n",
       "    </tr>\n",
       "    <tr>\n",
       "      <th>7</th>\n",
       "      <td>0.032749</td>\n",
       "      <td>3.997593e-04</td>\n",
       "      <td>0.005191</td>\n",
       "      <td>3.978492e-04</td>\n",
       "      <td>6</td>\n",
       "      <td>10</td>\n",
       "      <td>NaN</td>\n",
       "      <td>{'max_features': 6, 'n_estimators': 10}</td>\n",
       "      <td>-0.004993</td>\n",
       "      <td>-0.005656</td>\n",
       "      <td>...</td>\n",
       "      <td>-0.004859</td>\n",
       "      <td>0.000773</td>\n",
       "      <td>9</td>\n",
       "      <td>-9.401437e-04</td>\n",
       "      <td>-8.314531e-04</td>\n",
       "      <td>-8.612094e-04</td>\n",
       "      <td>-6.771625e-04</td>\n",
       "      <td>-8.785813e-04</td>\n",
       "      <td>-8.377100e-04</td>\n",
       "      <td>8.778383e-05</td>\n",
       "    </tr>\n",
       "    <tr>\n",
       "      <th>8</th>\n",
       "      <td>0.095651</td>\n",
       "      <td>1.070587e-02</td>\n",
       "      <td>0.008587</td>\n",
       "      <td>1.739600e-03</td>\n",
       "      <td>6</td>\n",
       "      <td>30</td>\n",
       "      <td>NaN</td>\n",
       "      <td>{'max_features': 6, 'n_estimators': 30}</td>\n",
       "      <td>-0.004126</td>\n",
       "      <td>-0.004991</td>\n",
       "      <td>...</td>\n",
       "      <td>-0.004378</td>\n",
       "      <td>0.000381</td>\n",
       "      <td>5</td>\n",
       "      <td>-6.964628e-04</td>\n",
       "      <td>-6.347337e-04</td>\n",
       "      <td>-6.050205e-04</td>\n",
       "      <td>-6.526229e-04</td>\n",
       "      <td>-6.723670e-04</td>\n",
       "      <td>-6.522414e-04</td>\n",
       "      <td>3.129555e-05</td>\n",
       "    </tr>\n",
       "    <tr>\n",
       "      <th>9</th>\n",
       "      <td>0.014978</td>\n",
       "      <td>8.927657e-04</td>\n",
       "      <td>0.004991</td>\n",
       "      <td>2.896565e-06</td>\n",
       "      <td>2</td>\n",
       "      <td>3</td>\n",
       "      <td>False</td>\n",
       "      <td>{'bootstrap': False, 'max_features': 2, 'n_est...</td>\n",
       "      <td>-0.005281</td>\n",
       "      <td>-0.005695</td>\n",
       "      <td>...</td>\n",
       "      <td>-0.005713</td>\n",
       "      <td>0.000313</td>\n",
       "      <td>15</td>\n",
       "      <td>-2.465190e-33</td>\n",
       "      <td>-2.349635e-33</td>\n",
       "      <td>-2.436301e-33</td>\n",
       "      <td>-2.426672e-33</td>\n",
       "      <td>-2.378523e-33</td>\n",
       "      <td>-2.411264e-33</td>\n",
       "      <td>4.157511e-35</td>\n",
       "    </tr>\n",
       "    <tr>\n",
       "      <th>10</th>\n",
       "      <td>0.030951</td>\n",
       "      <td>2.526511e-03</td>\n",
       "      <td>0.005391</td>\n",
       "      <td>1.016756e-03</td>\n",
       "      <td>2</td>\n",
       "      <td>10</td>\n",
       "      <td>False</td>\n",
       "      <td>{'bootstrap': False, 'max_features': 2, 'n_est...</td>\n",
       "      <td>-0.004466</td>\n",
       "      <td>-0.004553</td>\n",
       "      <td>...</td>\n",
       "      <td>-0.004338</td>\n",
       "      <td>0.000255</td>\n",
       "      <td>4</td>\n",
       "      <td>-1.144965e-32</td>\n",
       "      <td>-1.100669e-32</td>\n",
       "      <td>-1.083336e-32</td>\n",
       "      <td>-1.073706e-32</td>\n",
       "      <td>-1.020743e-32</td>\n",
       "      <td>-1.084684e-32</td>\n",
       "      <td>4.024963e-34</td>\n",
       "    </tr>\n",
       "    <tr>\n",
       "      <th>11</th>\n",
       "      <td>0.014977</td>\n",
       "      <td>3.627326e-03</td>\n",
       "      <td>0.004194</td>\n",
       "      <td>9.781389e-04</td>\n",
       "      <td>3</td>\n",
       "      <td>3</td>\n",
       "      <td>False</td>\n",
       "      <td>{'bootstrap': False, 'max_features': 3, 'n_est...</td>\n",
       "      <td>-0.004660</td>\n",
       "      <td>-0.006880</td>\n",
       "      <td>...</td>\n",
       "      <td>-0.004934</td>\n",
       "      <td>0.001019</td>\n",
       "      <td>11</td>\n",
       "      <td>-2.465190e-33</td>\n",
       "      <td>-2.349635e-33</td>\n",
       "      <td>-2.436301e-33</td>\n",
       "      <td>-2.426672e-33</td>\n",
       "      <td>-2.378523e-33</td>\n",
       "      <td>-2.411264e-33</td>\n",
       "      <td>4.157511e-35</td>\n",
       "    </tr>\n",
       "    <tr>\n",
       "      <th>12</th>\n",
       "      <td>0.038140</td>\n",
       "      <td>9.833134e-03</td>\n",
       "      <td>0.005790</td>\n",
       "      <td>1.466875e-03</td>\n",
       "      <td>3</td>\n",
       "      <td>10</td>\n",
       "      <td>False</td>\n",
       "      <td>{'bootstrap': False, 'max_features': 3, 'n_est...</td>\n",
       "      <td>-0.004446</td>\n",
       "      <td>-0.005097</td>\n",
       "      <td>...</td>\n",
       "      <td>-0.004267</td>\n",
       "      <td>0.000479</td>\n",
       "      <td>3</td>\n",
       "      <td>-1.133410e-32</td>\n",
       "      <td>-1.100669e-32</td>\n",
       "      <td>-1.094891e-32</td>\n",
       "      <td>-1.085262e-32</td>\n",
       "      <td>-1.020743e-32</td>\n",
       "      <td>-1.086995e-32</td>\n",
       "      <td>3.686735e-34</td>\n",
       "    </tr>\n",
       "    <tr>\n",
       "      <th>13</th>\n",
       "      <td>0.015574</td>\n",
       "      <td>1.353549e-03</td>\n",
       "      <td>0.004194</td>\n",
       "      <td>1.467868e-03</td>\n",
       "      <td>4</td>\n",
       "      <td>3</td>\n",
       "      <td>False</td>\n",
       "      <td>{'bootstrap': False, 'max_features': 4, 'n_est...</td>\n",
       "      <td>-0.004915</td>\n",
       "      <td>-0.005239</td>\n",
       "      <td>...</td>\n",
       "      <td>-0.004872</td>\n",
       "      <td>0.000254</td>\n",
       "      <td>10</td>\n",
       "      <td>-2.465190e-33</td>\n",
       "      <td>-2.349635e-33</td>\n",
       "      <td>-2.436301e-33</td>\n",
       "      <td>-2.426672e-33</td>\n",
       "      <td>-2.378523e-33</td>\n",
       "      <td>-2.411264e-33</td>\n",
       "      <td>4.157511e-35</td>\n",
       "    </tr>\n",
       "    <tr>\n",
       "      <th>14</th>\n",
       "      <td>0.035342</td>\n",
       "      <td>1.354865e-03</td>\n",
       "      <td>0.005393</td>\n",
       "      <td>7.983698e-04</td>\n",
       "      <td>4</td>\n",
       "      <td>10</td>\n",
       "      <td>False</td>\n",
       "      <td>{'bootstrap': False, 'max_features': 4, 'n_est...</td>\n",
       "      <td>-0.004428</td>\n",
       "      <td>-0.005363</td>\n",
       "      <td>...</td>\n",
       "      <td>-0.004613</td>\n",
       "      <td>0.000392</td>\n",
       "      <td>7</td>\n",
       "      <td>-1.144965e-32</td>\n",
       "      <td>-1.089113e-32</td>\n",
       "      <td>-1.094891e-32</td>\n",
       "      <td>-1.085262e-32</td>\n",
       "      <td>-1.020743e-32</td>\n",
       "      <td>-1.086995e-32</td>\n",
       "      <td>3.954680e-34</td>\n",
       "    </tr>\n",
       "  </tbody>\n",
       "</table>\n",
       "<p>15 rows × 23 columns</p>\n",
       "</div>"
      ],
      "text/plain": [
       "    mean_fit_time  std_fit_time  mean_score_time  std_score_time  \\\n",
       "0        0.015175  3.182724e-03         0.004194    3.989469e-04   \n",
       "1        0.028156  7.476447e-04         0.005191    3.972769e-04   \n",
       "2        0.075082  1.164921e-03         0.008188    3.999479e-04   \n",
       "3        0.012378  4.862650e-04         0.003993    8.714517e-07   \n",
       "4        0.036543  1.168548e-02         0.004992    6.324109e-04   \n",
       "5        0.091655  1.257169e-02         0.008587    1.017944e-03   \n",
       "6        0.012980  3.568323e-07         0.004193    3.991130e-04   \n",
       "7        0.032749  3.997593e-04         0.005191    3.978492e-04   \n",
       "8        0.095651  1.070587e-02         0.008587    1.739600e-03   \n",
       "9        0.014978  8.927657e-04         0.004991    2.896565e-06   \n",
       "10       0.030951  2.526511e-03         0.005391    1.016756e-03   \n",
       "11       0.014977  3.627326e-03         0.004194    9.781389e-04   \n",
       "12       0.038140  9.833134e-03         0.005790    1.466875e-03   \n",
       "13       0.015574  1.353549e-03         0.004194    1.467868e-03   \n",
       "14       0.035342  1.354865e-03         0.005393    7.983698e-04   \n",
       "\n",
       "   param_max_features param_n_estimators param_bootstrap  \\\n",
       "0                   2                  3             NaN   \n",
       "1                   2                 10             NaN   \n",
       "2                   2                 30             NaN   \n",
       "3                   4                  3             NaN   \n",
       "4                   4                 10             NaN   \n",
       "5                   4                 30             NaN   \n",
       "6                   6                  3             NaN   \n",
       "7                   6                 10             NaN   \n",
       "8                   6                 30             NaN   \n",
       "9                   2                  3           False   \n",
       "10                  2                 10           False   \n",
       "11                  3                  3           False   \n",
       "12                  3                 10           False   \n",
       "13                  4                  3           False   \n",
       "14                  4                 10           False   \n",
       "\n",
       "                                               params  split0_test_score  \\\n",
       "0              {'max_features': 2, 'n_estimators': 3}          -0.004245   \n",
       "1             {'max_features': 2, 'n_estimators': 10}          -0.003434   \n",
       "2             {'max_features': 2, 'n_estimators': 30}          -0.003398   \n",
       "3              {'max_features': 4, 'n_estimators': 3}          -0.005245   \n",
       "4             {'max_features': 4, 'n_estimators': 10}          -0.004381   \n",
       "5             {'max_features': 4, 'n_estimators': 30}          -0.003732   \n",
       "6              {'max_features': 6, 'n_estimators': 3}          -0.005289   \n",
       "7             {'max_features': 6, 'n_estimators': 10}          -0.004993   \n",
       "8             {'max_features': 6, 'n_estimators': 30}          -0.004126   \n",
       "9   {'bootstrap': False, 'max_features': 2, 'n_est...          -0.005281   \n",
       "10  {'bootstrap': False, 'max_features': 2, 'n_est...          -0.004466   \n",
       "11  {'bootstrap': False, 'max_features': 3, 'n_est...          -0.004660   \n",
       "12  {'bootstrap': False, 'max_features': 3, 'n_est...          -0.004446   \n",
       "13  {'bootstrap': False, 'max_features': 4, 'n_est...          -0.004915   \n",
       "14  {'bootstrap': False, 'max_features': 4, 'n_est...          -0.004428   \n",
       "\n",
       "    split1_test_score  ...  mean_test_score  std_test_score  rank_test_score  \\\n",
       "0           -0.005731  ...        -0.005369        0.000670               13   \n",
       "1           -0.004879  ...        -0.004384        0.000547                6   \n",
       "2           -0.004650  ...        -0.004017        0.000471                1   \n",
       "3           -0.005988  ...        -0.005308        0.000370               12   \n",
       "4           -0.005397  ...        -0.004624        0.000440                8   \n",
       "5           -0.004788  ...        -0.004196        0.000409                2   \n",
       "6           -0.006145  ...        -0.005626        0.001052               14   \n",
       "7           -0.005656  ...        -0.004859        0.000773                9   \n",
       "8           -0.004991  ...        -0.004378        0.000381                5   \n",
       "9           -0.005695  ...        -0.005713        0.000313               15   \n",
       "10          -0.004553  ...        -0.004338        0.000255                4   \n",
       "11          -0.006880  ...        -0.004934        0.001019               11   \n",
       "12          -0.005097  ...        -0.004267        0.000479                3   \n",
       "13          -0.005239  ...        -0.004872        0.000254               10   \n",
       "14          -0.005363  ...        -0.004613        0.000392                7   \n",
       "\n",
       "    split0_train_score  split1_train_score  split2_train_score  \\\n",
       "0        -1.402778e-03       -1.335069e-03       -1.642257e-03   \n",
       "1        -8.663469e-04       -7.130281e-04       -8.807125e-04   \n",
       "2        -6.931628e-04       -5.691556e-04       -6.213920e-04   \n",
       "3        -1.602535e-03       -1.462604e-03       -1.289167e-03   \n",
       "4        -9.462594e-04       -7.437812e-04       -7.785531e-04   \n",
       "5        -6.845514e-04       -6.095753e-04       -6.058687e-04   \n",
       "6        -1.355729e-03       -1.450903e-03       -1.344479e-03   \n",
       "7        -9.401437e-04       -8.314531e-04       -8.612094e-04   \n",
       "8        -6.964628e-04       -6.347337e-04       -6.050205e-04   \n",
       "9        -2.465190e-33       -2.349635e-33       -2.436301e-33   \n",
       "10       -1.144965e-32       -1.100669e-32       -1.083336e-32   \n",
       "11       -2.465190e-33       -2.349635e-33       -2.436301e-33   \n",
       "12       -1.133410e-32       -1.100669e-32       -1.094891e-32   \n",
       "13       -2.465190e-33       -2.349635e-33       -2.436301e-33   \n",
       "14       -1.144965e-32       -1.089113e-32       -1.094891e-32   \n",
       "\n",
       "    split3_train_score  split4_train_score  mean_train_score  std_train_score  \n",
       "0        -1.234097e-03       -1.719549e-03     -1.466750e-03     1.845369e-04  \n",
       "1        -7.069969e-04       -8.721031e-04     -8.078375e-04     8.002729e-05  \n",
       "2        -5.955924e-04       -6.915087e-04     -6.341623e-04     5.029169e-05  \n",
       "3        -1.252917e-03       -1.557326e-03     -1.432910e-03     1.401381e-04  \n",
       "4        -7.407688e-04       -8.605406e-04     -8.139806e-04     7.900448e-05  \n",
       "5        -6.394260e-04       -6.971677e-04     -6.473178e-04     3.761954e-05  \n",
       "6        -1.157882e-03       -1.536875e-03     -1.369174e-03     1.266792e-04  \n",
       "7        -6.771625e-04       -8.785813e-04     -8.377100e-04     8.778383e-05  \n",
       "8        -6.526229e-04       -6.723670e-04     -6.522414e-04     3.129555e-05  \n",
       "9        -2.426672e-33       -2.378523e-33     -2.411264e-33     4.157511e-35  \n",
       "10       -1.073706e-32       -1.020743e-32     -1.084684e-32     4.024963e-34  \n",
       "11       -2.426672e-33       -2.378523e-33     -2.411264e-33     4.157511e-35  \n",
       "12       -1.085262e-32       -1.020743e-32     -1.086995e-32     3.686735e-34  \n",
       "13       -2.426672e-33       -2.378523e-33     -2.411264e-33     4.157511e-35  \n",
       "14       -1.085262e-32       -1.020743e-32     -1.086995e-32     3.954680e-34  \n",
       "\n",
       "[15 rows x 23 columns]"
      ]
     },
     "execution_count": 42,
     "metadata": {},
     "output_type": "execute_result"
    }
   ],
   "source": [
    "pd.DataFrame(grid_search.cv_results_)"
   ]
  },
  {
   "cell_type": "code",
   "execution_count": 43,
   "metadata": {
    "scrolled": false
   },
   "outputs": [
    {
     "data": {
      "text/plain": [
       "[(0.3146534336413559, 'CGPA'),\n",
       " (0.24415377810167938, 'GRE Score'),\n",
       " (0.1842802700069576, 'TOEFL Score'),\n",
       " (0.09294599447319311, 'SOP'),\n",
       " (0.07499795598742763, 'University Rating'),\n",
       " (0.046444777150929054, 'LOR '),\n",
       " (0.04252379063845742, 'Research')]"
      ]
     },
     "execution_count": 43,
     "metadata": {},
     "output_type": "execute_result"
    }
   ],
   "source": [
    "feature_importances = grid_search.best_estimator_.feature_importances_\n",
    "sorted(zip(feature_importances, X), reverse=True)"
   ]
  },
  {
   "cell_type": "code",
   "execution_count": 60,
   "metadata": {},
   "outputs": [],
   "source": [
    "rf_model_gs = grid_search.best_estimator_\n",
    "rf_predictions_gs = rf_model_gs.predict(x_test)\n",
    "\n",
    "rf_mse_gs = mean_squared_error(y_test, rf_predictions_gs)\n",
    "rf_rmse_gs = np.sqrt(rf_mse_gs)"
   ]
  },
  {
   "cell_type": "code",
   "execution_count": 61,
   "metadata": {},
   "outputs": [
    {
     "data": {
      "text/plain": [
       "0.06682999160390325"
      ]
     },
     "execution_count": 61,
     "metadata": {},
     "output_type": "execute_result"
    }
   ],
   "source": [
    "rf_rmse_gs"
   ]
  },
  {
   "cell_type": "markdown",
   "metadata": {},
   "source": [
    "#### Randomized Search"
   ]
  },
  {
   "cell_type": "code",
   "execution_count": 46,
   "metadata": {},
   "outputs": [
    {
     "data": {
      "text/plain": [
       "RandomizedSearchCV(cv=5, error_score='raise-deprecating',\n",
       "          estimator=RandomForestRegressor(bootstrap=True, criterion='mse', max_depth=None,\n",
       "           max_features='auto', max_leaf_nodes=None,\n",
       "           min_impurity_decrease=0.0, min_impurity_split=None,\n",
       "           min_samples_leaf=1, min_samples_split=2,\n",
       "           min_weight_fraction_leaf=0.0, n_estimators='warn', n_jobs=None,\n",
       "           oob_score=False, random_state=42, verbose=0, warm_start=False),\n",
       "          fit_params=None, iid='warn', n_iter=10, n_jobs=None,\n",
       "          param_distributions={'n_estimators': <scipy.stats._distn_infrastructure.rv_frozen object at 0x000001FE5ACC55C0>, 'max_features': <scipy.stats._distn_infrastructure.rv_frozen object at 0x000001FE5AC82908>},\n",
       "          pre_dispatch='2*n_jobs', random_state=42, refit=True,\n",
       "          return_train_score='warn', scoring='neg_mean_squared_error',\n",
       "          verbose=0)"
      ]
     },
     "execution_count": 46,
     "metadata": {},
     "output_type": "execute_result"
    }
   ],
   "source": [
    "from sklearn.model_selection import RandomizedSearchCV\n",
    "from scipy.stats import randint\n",
    "\n",
    "param_distribs = {\n",
    "        'n_estimators': randint(low=1, high=200),\n",
    "        'max_features': randint(low=1, high=6),\n",
    "    }\n",
    "\n",
    "forest_reg = RandomForestRegressor(random_state=42)\n",
    "rnd_search = RandomizedSearchCV(forest_reg, param_distributions=param_distribs,\n",
    "                                n_iter=10, cv=5, scoring='neg_mean_squared_error', random_state=42)\n",
    "rnd_search.fit(x_train, y_train)"
   ]
  },
  {
   "cell_type": "code",
   "execution_count": 47,
   "metadata": {},
   "outputs": [
    {
     "name": "stdout",
     "output_type": "stream",
     "text": [
      "0.06361118583510578 {'max_features': 4, 'n_estimators': 93}\n",
      "0.06339164553298508 {'max_features': 3, 'n_estimators': 72}\n",
      "0.06432074883083008 {'max_features': 5, 'n_estimators': 21}\n",
      "0.062191256620203444 {'max_features': 2, 'n_estimators': 75}\n",
      "0.06330836737876983 {'max_features': 3, 'n_estimators': 88}\n",
      "0.06370266262096115 {'max_features': 5, 'n_estimators': 100}\n",
      "0.06282330759978959 {'max_features': 3, 'n_estimators': 150}\n",
      "0.08258026398601544 {'max_features': 5, 'n_estimators': 2}\n",
      "0.06333010541000066 {'max_features': 4, 'n_estimators': 158}\n",
      "0.06231129133845699 {'max_features': 2, 'n_estimators': 192}\n"
     ]
    }
   ],
   "source": [
    "cvres = rnd_search.cv_results_\n",
    "for mean_score, params in zip(cvres[\"mean_test_score\"], cvres[\"params\"]):\n",
    "    print(np.sqrt(-mean_score), params)"
   ]
  },
  {
   "cell_type": "code",
   "execution_count": 48,
   "metadata": {},
   "outputs": [
    {
     "data": {
      "text/plain": [
       "[(0.3406460082169565, 'CGPA'),\n",
       " (0.25477698654826814, 'GRE Score'),\n",
       " (0.17042920206372822, 'TOEFL Score'),\n",
       " (0.08719883023526294, 'SOP'),\n",
       " (0.06591321380437044, 'University Rating'),\n",
       " (0.05282948468118395, 'LOR '),\n",
       " (0.028206274450229767, 'Research')]"
      ]
     },
     "execution_count": 48,
     "metadata": {},
     "output_type": "execute_result"
    }
   ],
   "source": [
    "feature_importances = rnd_search.best_estimator_.feature_importances_\n",
    "sorted(zip(feature_importances, X), reverse=True)"
   ]
  },
  {
   "cell_type": "code",
   "execution_count": 62,
   "metadata": {},
   "outputs": [
    {
     "data": {
      "text/plain": [
       "0.06309404902383602"
      ]
     },
     "execution_count": 62,
     "metadata": {},
     "output_type": "execute_result"
    }
   ],
   "source": [
    "rf_model_rs = rnd_search.best_estimator_\n",
    "rf_predictions_rs = rf_model_rs.predict(x_test)\n",
    "\n",
    "rf_mse_rs = mean_squared_error(y_test, rf_predictions_rs)\n",
    "rf_rmse_rs = np.sqrt(rf_mse_rs)\n",
    "rf_rmse_rs"
   ]
  },
  {
   "cell_type": "markdown",
   "metadata": {},
   "source": [
    "After parameter tuning with Randomized Search, RMSE of Random Forest model became a little bit lower than after cross validation (0.06475 -> 0.06309)"
   ]
  },
  {
   "cell_type": "markdown",
   "metadata": {},
   "source": [
    "Now, let's plot them."
   ]
  },
  {
   "cell_type": "code",
   "execution_count": 63,
   "metadata": {
    "scrolled": true
   },
   "outputs": [
    {
     "data": {
      "image/png": "[encoded data removed]",
      "text/plain": [
       "<Figure size 432x288 with 1 Axes>"
      ]
     },
     "metadata": {
      "needs_background": "light"
     },
     "output_type": "display_data"
    }
   ],
   "source": [
    "x = [\"RF_Original\", \"RF_CrossVal\",\"RF_GridSearch\",\"RF_RandSearch\"]\n",
    "y = [forest_test_rmse, forest_rmse_scores.mean(), rf_rmse_gs, rf_rmse_rs]\n",
    "\n",
    "plt.bar(x,y,color=['black','green','blue','cyan'])\n",
    "plt.title(\"Comparison of a Random Forest Model with different tunings\")\n",
    "plt.xlabel(\"Tunings\")\n",
    "plt.ylabel(\"RMSE\")\n",
    "plt.show()"
   ]
  },
  {
   "cell_type": "markdown",
   "metadata": {},
   "source": [
    "My random forest model after applying randomized search shows best performance."
   ]
  },
  {
   "cell_type": "code",
   "execution_count": 64,
   "metadata": {},
   "outputs": [],
   "source": [
    "final_model = rf_model_rs"
   ]
  },
  {
   "cell_type": "markdown",
   "metadata": {},
   "source": [
    "# Model Evaluation"
   ]
  },
  {
   "cell_type": "markdown",
   "metadata": {},
   "source": [
    "To test my final model, I tried some input data and compared the predicted outputs with labels."
   ]
  },
  {
   "cell_type": "code",
   "execution_count": 65,
   "metadata": {},
   "outputs": [
    {
     "name": "stdout",
     "output_type": "stream",
     "text": [
      "Index:0  Prediction:0.93  Real:0.93\n",
      "Index:10  Prediction:0.70  Real:0.45\n",
      "Index:20  Prediction:0.65  Real:0.67\n",
      "Index:30  Prediction:0.57  Real:0.59\n",
      "Index:40  Prediction:0.95  Real:0.96\n",
      "Index:50  Prediction:0.89  Real:0.93\n",
      "Index:60  Prediction:0.62  Real:0.68\n",
      "Index:70  Prediction:0.60  Real:0.64\n",
      "Index:80  Prediction:0.69  Real:0.80\n",
      "Index:90  Prediction:0.75  Real:0.73\n"
     ]
    }
   ],
   "source": [
    "for i in np.arange(0,100,10):\n",
    "    print(\"Index:%d  Prediction:%.2f  Real:%.2f\"\n",
    "          %(i,final_model.predict(x_test.iloc[[i],:])[0],y_test[i]))"
   ]
  },
  {
   "cell_type": "markdown",
   "metadata": {},
   "source": [
    "# Justification"
   ]
  },
  {
   "cell_type": "markdown",
   "metadata": {},
   "source": [
    "To compare my final model with benchmarks, I repeated the above process: I entered the same input data into the benchmark models and compared the results."
   ]
  },
  {
   "cell_type": "code",
   "execution_count": 66,
   "metadata": {},
   "outputs": [
    {
     "name": "stdout",
     "output_type": "stream",
     "text": [
      "Index:0  LR_Pred:0.91  DT_Pred:0.93  RF_Pred:0.93  Real:0.93\n",
      "Index:10  LR_Pred:0.72  DT_Pred:0.67  RF_Pred:0.70  Real:0.45\n",
      "Index:20  LR_Pred:0.67  DT_Pred:0.72  RF_Pred:0.65  Real:0.67\n",
      "Index:30  LR_Pred:0.56  DT_Pred:0.56  RF_Pred:0.57  Real:0.59\n",
      "Index:40  LR_Pred:0.97  DT_Pred:0.96  RF_Pred:0.95  Real:0.96\n",
      "Index:50  LR_Pred:0.89  DT_Pred:0.87  RF_Pred:0.89  Real:0.93\n",
      "Index:60  LR_Pred:0.63  DT_Pred:0.61  RF_Pred:0.62  Real:0.68\n",
      "Index:70  LR_Pred:0.62  DT_Pred:0.64  RF_Pred:0.60  Real:0.64\n",
      "Index:80  LR_Pred:0.77  DT_Pred:0.55  RF_Pred:0.69  Real:0.80\n",
      "Index:90  LR_Pred:0.74  DT_Pred:0.78  RF_Pred:0.75  Real:0.73\n"
     ]
    }
   ],
   "source": [
    "for i in np.arange(0,100,10):\n",
    "    print(\"Index:%d  LR_Pred:%.2f  DT_Pred:%.2f  RF_Pred:%.2f  Real:%.2f\"\n",
    "          %(i,lin_reg.predict(x_test.iloc[[i],:])[0],\n",
    "            tree_reg.predict(x_test.iloc[[i],:])[0],\n",
    "            final_model.predict(x_test.iloc[[i],:])[0],\n",
    "            y_test[i]))"
   ]
  },
  {
   "cell_type": "markdown",
   "metadata": {},
   "source": [
    "Next, for 50 test data indices let's plot the predicted values of LR, DT, Final model and real value: "
   ]
  },
  {
   "cell_type": "code",
   "execution_count": 73,
   "metadata": {},
   "outputs": [
    {
     "data": {
      "image/png": "[encoded data removed]",
      "text/plain": [
       "<Figure size 1152x288 with 1 Axes>"
      ]
     },
     "metadata": {
      "needs_background": "light"
     },
     "output_type": "display_data"
    }
   ],
   "source": [
    "plt.figure(figsize=(16, 4))\n",
    "green = plt.scatter(np.arange(0,100,2),lr_pred_test[0:100:2],color = \"green\")\n",
    "blue = plt.scatter(np.arange(0,100,2),tr_pred_test[0:100:2],color = \"blue\")\n",
    "cyan = plt.scatter(np.arange(0,100,2),rf_predictions_rs[0:100:2],color = \"cyan\")\n",
    "red = plt.scatter(np.arange(0,100,2),y_test[0:100:2],color = \"red\")\n",
    "plt.title(\"Comparison of Regression Algorithms\")\n",
    "plt.xlabel(\"Applicant Index\")\n",
    "plt.ylabel(\"Chance of Admit\")\n",
    "plt.legend((green,blue,cyan,red),('Linear Regression', 'Decision Tree', 'Final Model', 'REAL'), loc=4)\n",
    "plt.show()"
   ]
  },
  {
   "cell_type": "markdown",
   "metadata": {},
   "source": [
    "# Additional Visualization"
   ]
  },
  {
   "cell_type": "markdown",
   "metadata": {},
   "source": [
    "To see the correlation among variables heatmap is also a good choice."
   ]
  },
  {
   "cell_type": "code",
   "execution_count": null,
   "metadata": {},
   "outputs": [],
   "source": [
    "import seaborn as sns\n",
    "fig,ax = plt.subplots(figsize=(10, 10))\n",
    "sns.heatmap(admission.corr(), ax=ax, annot=True, linewidths=0.05, fmt= '.2f',cmap=\"magma\")\n",
    "plt.show()"
   ]
  },
  {
   "cell_type": "code",
   "execution_count": null,
   "metadata": {},
   "outputs": [],
   "source": []
  }
 ],
 "metadata": {
  "kernelspec": {
   "display_name": "Python 3",
   "language": "python",
   "name": "python3"
  },
  "language_info": {
   "codemirror_mode": {
    "name": "ipython",
    "version": 3
   },
   "file_extension": ".py",
   "mimetype": "text/x-python",
   "name": "python",
   "nbconvert_exporter": "python",
   "pygments_lexer": "ipython3",
   "version": "3.7.3"
  }
 },
 "nbformat": 4,
 "nbformat_minor": 2
}
